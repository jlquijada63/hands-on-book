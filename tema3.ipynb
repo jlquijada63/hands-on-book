{
 "cells": [
  {
   "cell_type": "markdown",
   "metadata": {},
   "source": [
    "# TEMA 3: Clasificación"
   ]
  },
  {
   "cell_type": "markdown",
   "metadata": {},
   "source": [
    "Los problemas de **aprendizaje automatico** pueden dividirse en dos grupos:\n",
    "1. **Clasificacion**: Cuando la variable dependiente es de tipo discreto\n",
    "2. **Regresion**: Cuando la variable dependiente es de tipo continuo"
   ]
  },
  {
   "cell_type": "markdown",
   "metadata": {},
   "source": [
    "Para este problema vamos a utilizar un dataset de la biblioteca scikit-learn que es ***MNIST*** que consiste en 70.000 imagenes de tamaño 28 x 28 pixels donde cada imagen representa un digito del 0 al 9 escrito a mano por estudiantes"
   ]
  },
  {
   "cell_type": "markdown",
   "metadata": {},
   "source": [
    "## Importaciones"
   ]
  },
  {
   "cell_type": "code",
   "execution_count": 3,
   "metadata": {},
   "outputs": [
    {
     "name": "stderr",
     "output_type": "stream",
     "text": [
      "<frozen importlib._bootstrap>:219: RuntimeWarning: numpy.ufunc size changed, may indicate binary incompatibility. Expected 192 from C header, got 216 from PyObject\n"
     ]
    }
   ],
   "source": [
    "import numpy as np\n",
    "from sklearn.datasets import fetch_openml\n",
    "import matplotlib.pyplot as plt\n",
    "%matplotlib inline\n",
    "plt.rcParams[\"image.cmap\"] = 'gray'"
   ]
  },
  {
   "cell_type": "markdown",
   "metadata": {},
   "source": [
    "## Importación del dataset"
   ]
  },
  {
   "cell_type": "code",
   "execution_count": 4,
   "metadata": {},
   "outputs": [],
   "source": [
    "mnist = fetch_openml('mnist_784',version=1)"
   ]
  },
  {
   "cell_type": "markdown",
   "metadata": {},
   "source": [
    "Los datasets de la biblioteca scikit-learn estan en un formato que se llama **bunch**, que es parecido a un diccionario pero con informacion extra. Vamos a ver las claves que contiene un bunch"
   ]
  },
  {
   "cell_type": "code",
   "execution_count": 5,
   "metadata": {},
   "outputs": [
    {
     "data": {
      "text/plain": [
       "dict_keys(['data', 'target', 'frame', 'categories', 'feature_names', 'target_names', 'DESCR', 'details', 'url'])"
      ]
     },
     "execution_count": 5,
     "metadata": {},
     "output_type": "execute_result"
    }
   ],
   "source": [
    "mnist.keys()"
   ]
  },
  {
   "cell_type": "markdown",
   "metadata": {},
   "source": [
    "Los principales campos son:\n",
    "1.  **data**: Contiene un narray (de numpy) con los ejemplos en las filas (en este caso 70000) y los atributos (features) en las columnas (en este caso 28 x 28 = 784 columnas)\n",
    "2. **target**: Contiene un vector unidimensional con la variable dependiente (etiquetas o labels) (en este caso 70000 filas)\n",
    "3. **feature_names**: Contiene los nombres de los atributos. En este caso tiene poca importancia porque cada atributo es un pixel\n",
    "4. **DESCR**: Contiene una descripcion del dataset"
   ]
  },
  {
   "cell_type": "markdown",
   "metadata": {},
   "source": [
    "Dentro de los problemas de clasificacion podemos diferenciar dos tipos:\n",
    "1. **Clasificacion binaria**: La variable dependiente (target) toma solo dos valores (0 - 1)\n",
    "2. **Clasificacion multiclase**: La variable dependiente (target) toma mas de dos valores\n",
    "\n",
    "En realidad el problema que abordamos es un problema de clasificacion multiclase puesto que la variable dependiente toma 10 valores diferentes (de 0 a 9). Pero en el primer supuesto lo vamos a transformar en un problema de clasificacion binaria suponiendo que queremos crear un clasificador que clasifique si un digito es el numero \"5\" o no lo es."
   ]
  },
  {
   "cell_type": "markdown",
   "metadata": {},
   "source": [
    "## Creación de los grupos de entrenamiento y test"
   ]
  },
  {
   "cell_type": "markdown",
   "metadata": {},
   "source": [
    "Como los ejemplos se encuentran ya mezclados de forma aleatoria (shuffle), elegimos los 60000 primeros para el grupo de entrenamiento (train) y los 10000 restantes para el grupo de test (test)"
   ]
  },
  {
   "cell_type": "code",
   "execution_count": 6,
   "metadata": {},
   "outputs": [],
   "source": [
    "X_train = mnist.data[:60000]\n",
    "y_train = mnist.target[:60000]\n",
    "X_test = mnist.data[-10000:]\n",
    "y_test = mnist.target[-10000:]"
   ]
  },
  {
   "cell_type": "markdown",
   "metadata": {},
   "source": [
    "Mostramos la primera imagen del grupo de entrenamiento"
   ]
  },
  {
   "cell_type": "code",
   "execution_count": 7,
   "metadata": {},
   "outputs": [
    {
     "data": {
      "text/plain": [
       "<matplotlib.image.AxesImage at 0x7f975142c7c0>"
      ]
     },
     "execution_count": 7,
     "metadata": {},
     "output_type": "execute_result"
    },
    {
     "data": {
      "image/png": "[encoded data removed]",
      "text/plain": [
       "<Figure size 432x288 with 1 Axes>"
      ]
     },
     "metadata": {
      "needs_background": "light"
     },
     "output_type": "display_data"
    }
   ],
   "source": [
    "plt.imshow(X_train[0].reshape(28,28))"
   ]
  },
  {
   "cell_type": "markdown",
   "metadata": {},
   "source": [
    "y la correspondiente etiqueta"
   ]
  },
  {
   "cell_type": "code",
   "execution_count": 8,
   "metadata": {},
   "outputs": [
    {
     "data": {
      "text/plain": [
       "'5'"
      ]
     },
     "execution_count": 8,
     "metadata": {},
     "output_type": "execute_result"
    }
   ],
   "source": [
    "y_train[0]"
   ]
  },
  {
   "cell_type": "markdown",
   "metadata": {},
   "source": [
    "Como vemos los valores de la etiqueta son de tipo *string* y debemos transformarlos a formato numerico"
   ]
  },
  {
   "cell_type": "code",
   "execution_count": 9,
   "metadata": {},
   "outputs": [],
   "source": [
    "y_train = y_train.astype(np.uint8)"
   ]
  },
  {
   "cell_type": "code",
   "execution_count": 10,
   "metadata": {},
   "outputs": [
    {
     "data": {
      "text/plain": [
       "5"
      ]
     },
     "execution_count": 10,
     "metadata": {},
     "output_type": "execute_result"
    }
   ],
   "source": [
    "y_train[0]"
   ]
  },
  {
   "cell_type": "markdown",
   "metadata": {},
   "source": [
    "Ahora es formato numerico (enteros sin signo de 8 bytes). Hacemos lo mismo con el grupo de test"
   ]
  },
  {
   "cell_type": "code",
   "execution_count": 11,
   "metadata": {},
   "outputs": [],
   "source": [
    "y_test = y_test.astype(np.uint8)"
   ]
  },
  {
   "cell_type": "markdown",
   "metadata": {},
   "source": [
    "Ahora vamos a transformar los conjuntos de etiquetas (y_train, y_test) en binarios (dado que en el conjunto original toman valores de 0 a 9). Daremos el valor 1 (True) al 5 y 0 (False) a los valores que no son 5"
   ]
  },
  {
   "cell_type": "code",
   "execution_count": 12,
   "metadata": {},
   "outputs": [],
   "source": [
    "y_train = (y_train == 5)"
   ]
  },
  {
   "cell_type": "code",
   "execution_count": 13,
   "metadata": {},
   "outputs": [],
   "source": [
    "y_test = (y_test == 5)"
   ]
  },
  {
   "cell_type": "markdown",
   "metadata": {},
   "source": [
    "## 2. Creación del clasificador\n",
    "El clasificador que vamos a utilizar es un clasificador lineal SGD (Stochastic Gradient Descent). Este clasificador lo que hace es utilizar un tipo especial de algoritmo de Gradiente Decreciente que utiliza para la actualizacion de los parametros un gradiente calculado solo sobre una muestra y no sobre las medias de todas las muestras del conjunto (60000). Por esta razon es un algoritmo mas eficiente cuando se trata de conjuntos grandes. Tiene el inconveniente de que a diferencia del algoritmo de Gradiente Decreciente clasico, no se puede asegurar que se alcance un minimo global para la funcion de coste, aunque normalmente los valores de los parametros que se consiguen con este algoritmo son suficientemente buenos y se aproximan bastante a un minimo global"
   ]
  },
  {
   "cell_type": "code",
   "execution_count": 14,
   "metadata": {},
   "outputs": [
    {
     "name": "stderr",
     "output_type": "stream",
     "text": [
      "<frozen importlib._bootstrap>:219: RuntimeWarning: numpy.ufunc size changed, may indicate binary incompatibility. Expected 192 from C header, got 216 from PyObject\n"
     ]
    }
   ],
   "source": [
    "from sklearn.linear_model import SGDClassifier"
   ]
  },
  {
   "cell_type": "code",
   "execution_count": 15,
   "metadata": {},
   "outputs": [],
   "source": [
    "classifier = SGDClassifier()"
   ]
  },
  {
   "cell_type": "markdown",
   "metadata": {},
   "source": [
    "Realizamos el entrenamiento en el conjunto de entrenamiento"
   ]
  },
  {
   "cell_type": "code",
   "execution_count": 16,
   "metadata": {},
   "outputs": [
    {
     "data": {
      "text/plain": [
       "SGDClassifier()"
      ]
     },
     "execution_count": 16,
     "metadata": {},
     "output_type": "execute_result"
    }
   ],
   "source": [
    "classifier.fit(X_train,y_train)"
   ]
  },
  {
   "cell_type": "markdown",
   "metadata": {},
   "source": [
    "y la prediccion en el conjunto de test"
   ]
  },
  {
   "cell_type": "code",
   "execution_count": 17,
   "metadata": {},
   "outputs": [],
   "source": [
    "predictions = classifier.predict(X_test)"
   ]
  },
  {
   "cell_type": "markdown",
   "metadata": {},
   "source": [
    "## 3. Medida del rendimiento del modelo\n",
    "Dado que se trata de un problema de clasificacion el rendimiento del modelo lo podemos hacer de dos formas:\n",
    "1. **Hands-on**: Probandolo y midiendo su rendimiento en el conjunto de test (X_test, y_test)\n",
    "2. **Cross-validation**: En este caso lo que hacemos es probarlo sobre todo el conjunto de entrenamiento (X_train, y_train). Lo que hacemos es dividir el conjunto de entrenamiento en varias partes iguales llamada **folders** (tipicamiente entre 3 y 10) y realizar tantas pasadas del algoritmo como folders hay, utilizando en cada pasada un folder como conjunto de test y el resto como conjunto de entrenamiento. De esta manera se obtienen tantos resultados (\"accuracy\") como folders hemos dividido. El resultado final sera la media del rendimiento de todas las pasadas.\n",
    "En cuanto a las medidas que podemos utilizar, la base es la **matriz de confusion** y a partir de ella se pueden calcular las diferentes medidas como exactitud (accuracy), precision(precission) o sensibilidad (recall)"
   ]
  },
  {
   "cell_type": "markdown",
   "metadata": {},
   "source": [
    "### 3.1. Rendimiento calculado utilizando el conjunto de test (\"Hands-on\")"
   ]
  },
  {
   "cell_type": "markdown",
   "metadata": {},
   "source": [
    "#### Matriz de confusion (confusion matrix)"
   ]
  },
  {
   "cell_type": "code",
   "execution_count": 18,
   "metadata": {},
   "outputs": [],
   "source": [
    "from sklearn.metrics import confusion_matrix"
   ]
  },
  {
   "cell_type": "code",
   "execution_count": 19,
   "metadata": {},
   "outputs": [
    {
     "data": {
      "text/plain": [
       "array([[8333,  775],\n",
       "       [  68,  824]])"
      ]
     },
     "execution_count": 19,
     "metadata": {},
     "output_type": "execute_result"
    }
   ],
   "source": [
    "matriz_confusion = confusion_matrix(y_test,predictions)\n",
    "matriz_confusion"
   ]
  },
  {
   "cell_type": "markdown",
   "metadata": {},
   "source": [
    "**Interpretacion de la matriz de confusion:** Las filas de la matriz representan los valores reales (las etiquetas del modelo o y_test), mientras que las columnas representan las prediciones realizadas por el modelo"
   ]
  },
  {
   "attachments": {
    "confusion_matrix.jpg": {
     "image/jpeg": "[encoded data removed]"
    }
   },
   "cell_type": "markdown",
   "metadata": {},
   "source": [
    "![confusion_matrix.jpg](attachment:confusion_matrix.jpg)"
   ]
  },
  {
   "cell_type": "markdown",
   "metadata": {},
   "source": [
    "Sobre esta matriz vamos a calcular las diferentes medidas de rendimiento del modelo:\n",
    " \n",
    "\n"
   ]
  },
  {
   "cell_type": "markdown",
   "metadata": {},
   "source": [
    "**Exactitud (accuracy):**"
   ]
  },
  {
   "cell_type": "markdown",
   "metadata": {},
   "source": [
    "$$accuracy_{-}score = \\frac{True Negative + True Positive}{Total}$$"
   ]
  },
  {
   "cell_type": "markdown",
   "metadata": {},
   "source": [
    "**Precision (precision):**: Mide lo fiable que es el modelo cuando da positivo (tambien se llama *Valor Predictivo Positivo*)"
   ]
  },
  {
   "cell_type": "markdown",
   "metadata": {},
   "source": [
    "$$precision_{-}score = \\frac{True Positive}{True Positive + False Positive}$$"
   ]
  },
  {
   "cell_type": "markdown",
   "metadata": {},
   "source": [
    "**Recall (Sensibilidad)**: Es la capacidad del modelo para captar positivos (no importa que tambien capte muchos falsos positivos (reales negativos clasificados como positivos).  El caso es que no se le escape ningun positivo. "
   ]
  },
  {
   "cell_type": "markdown",
   "metadata": {},
   "source": [
    "$$recall_{-}score = \\frac{True Positive}{True Positive + False Negative}$$"
   ]
  },
  {
   "cell_type": "code",
   "execution_count": 20,
   "metadata": {},
   "outputs": [],
   "source": [
    "from sklearn.metrics import accuracy_score, precision_score, recall_score"
   ]
  },
  {
   "cell_type": "code",
   "execution_count": 21,
   "metadata": {},
   "outputs": [
    {
     "data": {
      "text/plain": [
       "0.9157"
      ]
     },
     "execution_count": 21,
     "metadata": {},
     "output_type": "execute_result"
    }
   ],
   "source": [
    "accuracy = accuracy_score(y_test,predictions)\n",
    "accuracy"
   ]
  },
  {
   "cell_type": "markdown",
   "metadata": {},
   "source": [
    "Como vemos la exactitud es muy alta, pero en este caso no es una medida muy valida porque la coleccion de ejemplos esta muy sesgada (los '5' representan solo el 10% de los ejemplos, entonces debemos valorar el rendimiento mediante la precision y la sensibilidad y una medida conjunta de las dos que es el F-score"
   ]
  },
  {
   "cell_type": "code",
   "execution_count": 22,
   "metadata": {},
   "outputs": [
    {
     "data": {
      "text/plain": [
       "0.515322076297686"
      ]
     },
     "execution_count": 22,
     "metadata": {},
     "output_type": "execute_result"
    }
   ],
   "source": [
    "precision = precision_score(y_test,predictions)\n",
    "precision"
   ]
  },
  {
   "cell_type": "code",
   "execution_count": 23,
   "metadata": {},
   "outputs": [
    {
     "data": {
      "text/plain": [
       "0.9237668161434978"
      ]
     },
     "execution_count": 23,
     "metadata": {},
     "output_type": "execute_result"
    }
   ],
   "source": [
    "sensibilidad = recall_score (y_test,predictions)\n",
    "sensibilidad"
   ]
  },
  {
   "cell_type": "code",
   "execution_count": 24,
   "metadata": {},
   "outputs": [],
   "source": [
    "from sklearn.metrics import f1_score"
   ]
  },
  {
   "cell_type": "code",
   "execution_count": 25,
   "metadata": {},
   "outputs": [
    {
     "data": {
      "text/plain": [
       "0.6615816940987554"
      ]
     },
     "execution_count": 25,
     "metadata": {},
     "output_type": "execute_result"
    }
   ],
   "source": [
    "f1 = f1_score(y_test,predictions)\n",
    "f1"
   ]
  },
  {
   "cell_type": "markdown",
   "metadata": {},
   "source": [
    "f1 toma valores entre 0 y 1 por lo que esta bien"
   ]
  },
  {
   "cell_type": "markdown",
   "metadata": {},
   "source": [
    "### 3.2. Rendimiento calculado utilizando Cross-Validation"
   ]
  },
  {
   "cell_type": "markdown",
   "metadata": {},
   "source": [
    "Consiste en dividir el conjunto de entrenamiento en varias partes que se denominan **folders** (tipicamente entre 3 y 10). Se realiza el entrenamiento utilizando como conjunto de test uno de los folders y como conjunto de entrenamiento el resto. Por tanto se realizaran tantos entrenamiento como numero de folders. El resultado final es la media"
   ]
  },
  {
   "cell_type": "code",
   "execution_count": 26,
   "metadata": {},
   "outputs": [],
   "source": [
    "from sklearn.model_selection import cross_val_score"
   ]
  },
  {
   "cell_type": "code",
   "execution_count": 28,
   "metadata": {},
   "outputs": [
    {
     "data": {
      "text/plain": [
       "0.9633333333333333"
      ]
     },
     "execution_count": 28,
     "metadata": {},
     "output_type": "execute_result"
    }
   ],
   "source": [
    "cross_val_score(classifier,X_train,y_train,cv=5,scoring=\"accuracy\").mean()"
   ]
  },
  {
   "cell_type": "markdown",
   "metadata": {},
   "source": [
    "Como vemos el modelo tiene una exactitud muy alta pero esto es engañoso dado que la frecuencia de la clase '5' es muy baja y por tanto el modelo esta muy sesgado. En estos casos la exactitud (accuracy) no es una buena medidad del rendimiento del modelo. Vamos a ver un ejemplo construyendo un transformer a medida"
   ]
  },
  {
   "cell_type": "markdown",
   "metadata": {},
   "source": [
    "#### Construccion de un transformer a medida"
   ]
  },
  {
   "cell_type": "markdown",
   "metadata": {},
   "source": [
    "Todos los objetos de sklearn implementan una interfaz que esta constituida por 3 grupos:\n",
    "1.  **Estimators**: Esta constituida por todos los objetos cuya funcion es estimar los parametros a traves de un conjunto de entrenamiento. Implementan por tanto el metodo **fit()** que tipicamente recibe por parametros el conjunto de entrenamiento (X_train) junto con las etiquetas en el caso de que se trate de aprendizaje supervisado (y_train)\n",
    "2.  **Transformers**: Realizan una transformacion de los datos de entrada a traves de los parametros obtenidos mediante el metodo fit(). A veces se combinan los dos metodos en fit_tranform()\n",
    "3.  **Predictors**: Realiza predicciones en un dataset nuevo a traves de los parametros obtenidos. En ocasiones tiene un metodo **score()** que mide la calidad de las prediciones"
   ]
  },
  {
   "cell_type": "markdown",
   "metadata": {},
   "source": [
    "Teniendo en cuenta estos preceptos basicos, podemos crear objetos transformers a medida, herendando de las clases de scikit-learn. Estos objetos deben implementar la interfaz basica de scikit-learn (fit(),transform(),predict())"
   ]
  },
  {
   "cell_type": "markdown",
   "metadata": {},
   "source": [
    "Para ver que pasa cuando utilizamos el metodo \"accuracy\" para evaluar el rendimiento de un clasificador en el que los datos estan muy sesgados, vamos a construir un \"clasificador a medida\" que clasifique todos los ejemplos como \"no 5\""
   ]
  },
  {
   "cell_type": "code",
   "execution_count": 31,
   "metadata": {},
   "outputs": [],
   "source": [
    "from sklearn.base import BaseEstimator"
   ]
  },
  {
   "cell_type": "code",
   "execution_count": 33,
   "metadata": {},
   "outputs": [],
   "source": [
    "class Never5Classifier (BaseEstimator):\n",
    "    def fit (self, X, y = None):\n",
    "        pass\n",
    "    def predict(self,X):\n",
    "        return np.zeros((len(X),1),dtype=bool)"
   ]
  },
  {
   "cell_type": "markdown",
   "metadata": {},
   "source": [
    "**Comentarios:** BaseEstimator es la clase madre de todos los objetos estimadores. El metodo __init()__ no aparece porque lo hereda de la clase madre BaseEstimator. La clase BaseEstimator implementa dos metodos: get_params y set_params que actuan sobre los parametros que se pasan en el constructor y que son los hiperparametros del modelo"
   ]
  },
  {
   "cell_type": "code",
   "execution_count": 47,
   "metadata": {},
   "outputs": [],
   "source": [
    "never5classifier = Never5Classifier()"
   ]
  },
  {
   "cell_type": "code",
   "execution_count": 48,
   "metadata": {},
   "outputs": [
    {
     "data": {
      "text/plain": [
       "{}"
      ]
     },
     "execution_count": 48,
     "metadata": {},
     "output_type": "execute_result"
    }
   ],
   "source": [
    "never5classifier.get_params()"
   ]
  },
  {
   "cell_type": "markdown",
   "metadata": {},
   "source": [
    "En este caso el estimador no tiene hiperparametros"
   ]
  },
  {
   "cell_type": "code",
   "execution_count": 52,
   "metadata": {},
   "outputs": [
    {
     "data": {
      "text/plain": [
       "0.9096499999999998"
      ]
     },
     "execution_count": 52,
     "metadata": {},
     "output_type": "execute_result"
    }
   ],
   "source": [
    "cross_val_score(never5classifier,X_train,y_train,cv = 5,scoring='accuracy').mean()"
   ]
  },
  {
   "cell_type": "markdown",
   "metadata": {},
   "source": [
    "Es decir este modelo que clasifica todos los ejemplos como 'no 5's' tiene una exactitud del 90%. Esto por supuesto no sirve para la valoracion"
   ]
  },
  {
   "cell_type": "code",
   "execution_count": 56,
   "metadata": {},
   "outputs": [
    {
     "data": {
      "text/plain": [
       "0.0"
      ]
     },
     "execution_count": 56,
     "metadata": {},
     "output_type": "execute_result"
    }
   ],
   "source": [
    "cross_val_score(never5classifier,X_train,y_train,cv = 5,scoring='recall').mean()"
   ]
  },
  {
   "cell_type": "markdown",
   "metadata": {},
   "source": [
    "Sin embargo la sensibilidad es 0"
   ]
  },
  {
   "cell_type": "code",
   "execution_count": 57,
   "metadata": {},
   "outputs": [
    {
     "data": {
      "text/plain": [
       "0.0"
      ]
     },
     "execution_count": 57,
     "metadata": {},
     "output_type": "execute_result"
    }
   ],
   "source": [
    "cross_val_score(never5classifier,X_train,y_train,cv = 5,scoring='precision').mean()"
   ]
  },
  {
   "cell_type": "markdown",
   "metadata": {},
   "source": [
    "y la precision tambien es 0"
   ]
  },
  {
   "cell_type": "markdown",
   "metadata": {},
   "source": [
    "Esto podemos verlo tambien a traves de la matriz de confusion"
   ]
  },
  {
   "cell_type": "code",
   "execution_count": 59,
   "metadata": {},
   "outputs": [],
   "source": [
    "from sklearn.model_selection import cross_val_predict"
   ]
  },
  {
   "cell_type": "code",
   "execution_count": 60,
   "metadata": {},
   "outputs": [],
   "source": [
    "predictions = cross_val_predict(never5classifier,X_train,y_train,cv=5)"
   ]
  },
  {
   "cell_type": "code",
   "execution_count": 63,
   "metadata": {},
   "outputs": [
    {
     "data": {
      "text/plain": [
       "array([[54579,     0],\n",
       "       [ 5421,     0]])"
      ]
     },
     "execution_count": 63,
     "metadata": {},
     "output_type": "execute_result"
    }
   ],
   "source": [
    "confusion_matrix(y_train,predictions)"
   ]
  },
  {
   "cell_type": "markdown",
   "metadata": {},
   "source": [
    "#### Equilibrio entre precision/recall\n",
    "La precision y la sensibilidad (recall) no tienen valores fijos y van a depender del threshold que elijamos para decidir si un ejemplo es positivo o negativo. Scikit-learn no nos permite determinar el limite que queremos utilizar para las decisiones, pero si nos permite ver los valores que se le asignan a cada ejemplo en la predicion mediante la funcion **decision_function()**"
   ]
  },
  {
   "cell_type": "code",
   "execution_count": 64,
   "metadata": {},
   "outputs": [],
   "source": [
    "y_score_prediction = classifier.decision_function(X_train)"
   ]
  },
  {
   "cell_type": "code",
   "execution_count": 65,
   "metadata": {},
   "outputs": [
    {
     "data": {
      "text/plain": [
       "array([  5165.13026591,  -7980.49831456, -17419.55459092, ...,\n",
       "         4515.83360409,  -2373.19582941,  -9783.85091689])"
      ]
     },
     "execution_count": 65,
     "metadata": {},
     "output_type": "execute_result"
    }
   ],
   "source": [
    "y_score_prediction"
   ]
  },
  {
   "cell_type": "markdown",
   "metadata": {},
   "source": [
    "A partir de aqui podemos calcular el threshold que ha utilizado"
   ]
  },
  {
   "cell_type": "code",
   "execution_count": 71,
   "metadata": {},
   "outputs": [],
   "source": [
    "pred_cero = y_score_prediction[predictions[:,0] == 0]"
   ]
  },
  {
   "cell_type": "code",
   "execution_count": 72,
   "metadata": {},
   "outputs": [
    {
     "data": {
      "text/plain": [
       "(60000, 1)"
      ]
     },
     "execution_count": 72,
     "metadata": {},
     "output_type": "execute_result"
    }
   ],
   "source": [
    "predictions.shape"
   ]
  },
  {
   "cell_type": "code",
   "execution_count": 73,
   "metadata": {},
   "outputs": [
    {
     "data": {
      "text/plain": [
       "(60000,)"
      ]
     },
     "execution_count": 73,
     "metadata": {},
     "output_type": "execute_result"
    }
   ],
   "source": [
    "y_score_prediction.shape"
   ]
  },
  {
   "cell_type": "code",
   "execution_count": 74,
   "metadata": {},
   "outputs": [
    {
     "data": {
      "text/plain": [
       "(60000,)"
      ]
     },
     "execution_count": 74,
     "metadata": {},
     "output_type": "execute_result"
    }
   ],
   "source": [
    "pred_cero.shape"
   ]
  },
  {
   "cell_type": "code",
   "execution_count": 75,
   "metadata": {},
   "outputs": [
    {
     "data": {
      "text/plain": [
       "array([  5165.13026591,  -7980.49831456, -17419.55459092, ...,\n",
       "         4515.83360409,  -2373.19582941,  -9783.85091689])"
      ]
     },
     "execution_count": 75,
     "metadata": {},
     "output_type": "execute_result"
    }
   ],
   "source": [
    "pred_cero"
   ]
  },
  {
   "cell_type": "code",
   "execution_count": 76,
   "metadata": {},
   "outputs": [
    {
     "data": {
      "text/plain": [
       "27586.34920274626"
      ]
     },
     "execution_count": 76,
     "metadata": {},
     "output_type": "execute_result"
    }
   ],
   "source": [
    "max(pred_cero)"
   ]
  },
  {
   "cell_type": "code",
   "execution_count": null,
   "metadata": {},
   "outputs": [],
   "source": []
  }
 ],
 "metadata": {
  "kernelspec": {
   "display_name": "Python 3",
   "language": "python",
   "name": "python3"
  },
  "language_info": {
   "codemirror_mode": {
    "name": "ipython",
    "version": 3
   },
   "file_extension": ".py",
   "mimetype": "text/x-python",
   "name": "python",
   "nbconvert_exporter": "python",
   "pygments_lexer": "ipython3",
   "version": "3.8.3"
  }
 },
 "nbformat": 4,
 "nbformat_minor": 4
}
